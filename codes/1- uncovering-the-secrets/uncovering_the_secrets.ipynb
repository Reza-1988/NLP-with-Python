{
 "cells": [
  {
   "cell_type": "markdown",
   "metadata": {},
   "source": [
    "<h1 align=\"center\" style=\"line-height:200%;font-family:Arial;color:#0099cc\">\n",
    "<font face=\"Arial\" color=\"#0099cc\">\n",
    "    Mission One: Uncovering the Secrets of Data City\n",
    "</font>\n",
    "</h1>\n",
    "</font>\n",
    "</h1>\n",
    "<p style=\"text-align: center;\">\n",
    "<img src=\"data/img_uncovering_the_secrets.png\" alt=\"ncovering_the_secrets\" style=\"max-width: 30%; height: auto;\">\n",
    "</p>"
   ]
  },
  {
   "cell_type": "markdown",
   "metadata": {},
   "source": [
    "<p style=\"direction: ltr; text-align: justify; line-height: 200%; font-family: Arial; font-size: medium\">\n",
    "<font face=\"Arial\" size=3>\n",
    "Data City is full of information and hidden secrets. Your mission is to uncover the mysteries of this city. To do so, you must work with the data collected from the city's residents and identify hidden patterns.\n",
    "</font>\n",
    "</p>"
   ]
  },
  {
   "cell_type": "markdown",
   "metadata": {},
   "source": [
    "   \n",
    "<h2 align=\"left\" style=\"line-height:200%;font-family:Arial;color:#0099cc\">\n",
    "<font face=\"Arial\" color=\"#0099cc\">\n",
    "Libraries\n",
    "</font>\n",
    "</h2>\n",
    "\n",
    "<p style=\"direction: ltr; text-align: justify; line-height: 200%; font-family: Arial; font-size: medium\">\n",
    "<font face=\"Arial\" size=3>\n",
    "First, import the necessary libraries.\n",
    "</font>\n",
    "</p>"
   ]
  },
  {
   "cell_type": "code",
   "execution_count": null,
   "metadata": {},
   "outputs": [],
   "source": [
    "# import libraries\n",
    "import numpy as np\n",
    "import pandas as pd"
   ]
  },
  {
   "cell_type": "markdown",
   "metadata": {},
   "source": [
    "<h2 align=\"left\" style=\"line-height:200%;font-family:Arial;color:#0099cc\">\n",
    "<font face=\"Arial\" color=\"#0099cc\">\n",
    "Step 1: Dataset\n",
    "</font>\n",
    "</h2>"
   ]
  },
  {
   "cell_type": "markdown",
   "metadata": {},
   "source": [
    "<p style=\"direction: ltr; text-align: justify; line-height: 200%; font-family: Arial; font-size: medium\">\n",
    "<font face=\"Arial\" size=3>\n",
    "The <code>students_performance.csv</code> file contains information about students' performance. Load it using <code>Pandas</code> and then take a look at the data.\n",
    "</font>\n",
    "</p>"
   ]
  },
  {
   "cell_type": "code",
   "execution_count": null,
   "metadata": {},
   "outputs": [],
   "source": [
    "# TODO: read the dataset\n",
    "df = pd.read_csv(None)\n",
    "df.head()"
   ]
  },
  {
   "cell_type": "markdown",
   "metadata": {},
   "source": [
    "<h2 align=\"left\" style=\"line-height:200%;font-family:Arial;color:#0099cc\">\n",
    "<font face=\"Arial\" color=\"#0099cc\">\n",
    "Step 2: Analysis of Central Tendency Measures\n",
    "</font>\n",
    "</h2>"
   ]
  },
  {
   "cell_type": "markdown",
   "metadata": {},
   "source": [
    "<p style=\"direction: ltr; text-align: justify; line-height: 200%; font-family: Arial; font-size: medium\">\n",
    "<font face=\"Arial\" size=3>\n",
    "📌 <b>Challenge:</b> The mayor of Data City wants to know the mean, median, and mode of students' scores in various subjects. You need to calculate these central tendency measures.\n",
    "</font>\n",
    "</p>\n",
    "\n",
    "<p style=\"direction: ltr; text-align: justify; line-height: 200%; font-family: Arial; font-size: medium\">\n",
    "<font face=\"Arial\" size=3>\n",
    "🔎 <b>Instructions:</b> Calculate the mean, median, and mode of the scores for math, reading, and writing. Store the results in three dictionaries. The dictionary keys should correspond to the subject names listed in the <code>subjects</code> list.\n",
    "</font>\n",
    "</p>\n",
    "\n",
    "<p style=\"direction: ltr; text-align: justify; line-height: 200%; font-family: Arial; font-size: medium\">\n",
    "<font face=\"Arial\" size=3>\n",
    "<b>Important Notes:</b> After calculating the values, round them to two decimal places. If there are multiple modes, consider only the first value.\n",
    "</font>\n",
    "</p>\n",
    "\n",
    "<p style=\"direction: ltr; text-align: justify; line-height: 200%; font-family: Arial; font-size: medium\">\n",
    "<font face=\"Arial\" size=3>\n",
    "For example: (the numbers are completely hypothetical)\n",
    "</font>\n",
    "</p>\n",
    "\n",
    "<p style=\"direction: ltr; text-align: left; line-height: 200%; font-family: Arial; font-size: medium\">\n",
    "<font face=\"Arial\" size=3>\n",
    "<code>{\"math score\": 70.35, \"reading score\": 86.02, \"writing score\": 53.90}</code>\n",
    "</font>\n",
    "</p>"
   ]
  },
  {
   "cell_type": "code",
   "execution_count": null,
   "metadata": {},
   "outputs": [],
   "source": [
    "# TODO: calculate mean, median, and mode for each subject\n",
    "\n",
    "subjects = [\"math score\", \"reading score\", \"writing score\"]\n",
    "\n",
    "\n",
    "mean_val = {}\n",
    "median_val = {} \n",
    "mode_val = {}"
   ]
  },
  {
   "cell_type": "markdown",
   "metadata": {},
   "source": [
    "<h2 align=\"left\" style=\"line-height:200%;font-family:Arial;color:#0099cc\">\n",
    "<font face=\"Arial\" color=\"#0099cc\">\n",
    "Step 3: Examining Data Dispersion\n",
    "</font>\n",
    "</h2>"
   ]
  },
  {
   "cell_type": "markdown",
   "metadata": {},
   "source": [
    "<p style=\"direction: ltr; text-align: justify; line-height: 200%; font-family: Arial; font-size: medium\">\n",
    "<font face=\"Arial\" size=3>\n",
    "📌 <b>Challenge:</b> The statistics professor at Data City University is concerned that some students have extremely low or high scores. You need to assess the variability of the scores by examining dispersion measures.\n",
    "</font>\n",
    "</p>\n",
    "\n",
    "<p style=\"direction: ltr; text-align: justify; line-height: 200%; font-family: Arial; font-size: medium\">\n",
    "<font face=\"Arial\" size=3>\n",
    "🔎 <b>Instructions:</b> Calculate the variance and standard deviation for each of the three subjects. Also, determine the range. Store the results in three dictionaries. The dictionary keys should correspond to the subject names listed in the <code>subjects</code> list.\n",
    "</font>\n",
    "</p>\n",
    "\n",
    "<p style=\"direction: ltr; text-align: justify; line-height: 200%; font-family: Arial; font-size: medium\">\n",
    "<font face=\"Arial\" size=3>\n",
    "<b>Important Note:</b> After calculating the values, round them to two decimal places.\n",
    "</font>\n",
    "</p>"
   ]
  },
  {
   "cell_type": "code",
   "execution_count": null,
   "metadata": {},
   "outputs": [],
   "source": [
    "# TODO: calculate variance and standard deviation for each subject\n",
    "\n",
    "variance_val = {}\n",
    "std_val = {}\n",
    "range_val = {}"
   ]
  },
  {
   "cell_type": "markdown",
   "metadata": {},
   "source": [
    "<p style=\"direction: ltr; text-align: justify; line-height: 200%; font-family: Arial; font-size: medium\">\n",
    "<font face=\"Arial\" size=3>\n",
    "<span style=\"color:green\"><b>Hint:</b></span><br>\n",
    "The range for each subject is obtained by subtracting the lowest score from the highest score.\n",
    "</font>\n",
    "</p>"
   ]
  },
  {
   "cell_type": "markdown",
   "metadata": {},
   "source": [
    "<h2 align=\"left\" style=\"line-height:200%;font-family:Arial;color:#0099cc\">\n",
    "<font face=\"Arial\" color=\"#0099cc\">\n",
    "Step 4: Analysis of Percentiles and Performance Thresholds\n",
    "</font>\n",
    "</h2>"
   ]
  },
  {
   "cell_type": "markdown",
   "metadata": {},
   "source": [
    "<p style=\"direction: ltr; text-align: justify; line-height: 200%; font-family: Arial; font-size: medium\">\n",
    "<font face=\"Arial\" size=3>\n",
    "📌 <b>Challenge:</b> The principal of Data City School wants to know what percentage of students have poor, average, or excellent performance. You need to calculate quartiles to determine the boundaries for these categories.\n",
    "</font>\n",
    "</p>\n",
    "\n",
    "<p style=\"direction: ltr; text-align: justify; line-height: 200%; font-family: Arial; font-size: medium\">\n",
    "<font face=\"Arial\" size=3>\n",
    "🔎 <b>Instructions:</b> First, calculate the average score for each student and store it in a column named <code>total score</code>. Then, calculate the first quartile (Q1), the third quartile (Q3), and the <i>IQR</i>. Analyze what percentage of students have performance below <i>Q1</i>, between <i>Q1</i> and <i>Q3</i>, and above <i>Q3</i>.\n",
    "</font>\n",
    "</p>"
   ]
  },
  {
   "cell_type": "code",
   "execution_count": null,
   "metadata": {},
   "outputs": [],
   "source": [
    "# TODO: calculate total score for each student\n",
    "\n",
    "df[\"total score\"] = None\n"
   ]
  },
  {
   "cell_type": "code",
   "execution_count": null,
   "metadata": {},
   "outputs": [],
   "source": [
    "# TODO: calculate Q1, Q3, and IQR for total score \n",
    "\n",
    "Q1 = None\n",
    "Q3 = None\n",
    "IQR = None"
   ]
  },
  {
   "cell_type": "markdown",
   "metadata": {},
   "source": [
    "<p style=\"direction: ltr; text-align: justify; line-height: 200%; font-family: Arial; font-size: medium\">\n",
    "<font face=\"Arial\" size=3>\n",
    "<b>Note:</b> After calculating the percentages, round them to two decimal places.\n",
    "</font>\n",
    "</p>"
   ]
  },
  {
   "cell_type": "code",
   "execution_count": null,
   "metadata": {},
   "outputs": [],
   "source": [
    "# TODO: calculate the percenatage of students who has total score < Q1, between Q1 and Q3, and > Q3\n",
    "\n",
    "less_than_Q1 = None\n",
    "between_Q1_Q3 = None\n",
    "more_than_Q3 = None"
   ]
  }
 ],
 "metadata": {
  "kernelspec": {
   "display_name": "menv",
   "language": "python",
   "name": "python3"
  },
  "language_info": {
   "name": "python",
   "version": "3.12.0"
  }
 },
 "nbformat": 4,
 "nbformat_minor": 2
}
