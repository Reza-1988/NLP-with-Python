{
 "cells": [
  {
   "cell_type": "code",
   "execution_count": 23,
   "metadata": {},
   "outputs": [],
   "source": [
    "# import libraries\n",
    "import numpy as np\n",
    "import pandas as pd"
   ]
  },
  {
   "cell_type": "code",
   "execution_count": 24,
   "metadata": {},
   "outputs": [
    {
     "data": {
      "application/vnd.microsoft.datawrangler.viewer.v0+json": {
       "columns": [
        {
         "name": "index",
         "rawType": "int64",
         "type": "integer"
        },
        {
         "name": "student name",
         "rawType": "object",
         "type": "string"
        },
        {
         "name": "reading score",
         "rawType": "int64",
         "type": "integer"
        },
        {
         "name": "math score",
         "rawType": "int64",
         "type": "integer"
        },
        {
         "name": "writing score",
         "rawType": "int64",
         "type": "integer"
        }
       ],
       "conversionMethod": "pd.DataFrame",
       "ref": "c2aa6626-8ff7-4222-b2ca-b3d9aa916920",
       "rows": [
        [
         "0",
         "Melanie",
         "58",
         "49",
         "25"
        ],
        [
         "1",
         "Gabriella",
         "45",
         "72",
         "88"
        ],
        [
         "2",
         "Ashley",
         "46",
         "27",
         "22"
        ],
        [
         "3",
         "James",
         "84",
         "2",
         "77"
        ],
        [
         "4",
         "William",
         "69",
         "35",
         "26"
        ]
       ],
       "shape": {
        "columns": 4,
        "rows": 5
       }
      },
      "text/html": [
       "<div>\n",
       "<style scoped>\n",
       "    .dataframe tbody tr th:only-of-type {\n",
       "        vertical-align: middle;\n",
       "    }\n",
       "\n",
       "    .dataframe tbody tr th {\n",
       "        vertical-align: top;\n",
       "    }\n",
       "\n",
       "    .dataframe thead th {\n",
       "        text-align: right;\n",
       "    }\n",
       "</style>\n",
       "<table border=\"1\" class=\"dataframe\">\n",
       "  <thead>\n",
       "    <tr style=\"text-align: right;\">\n",
       "      <th></th>\n",
       "      <th>student name</th>\n",
       "      <th>reading score</th>\n",
       "      <th>math score</th>\n",
       "      <th>writing score</th>\n",
       "    </tr>\n",
       "  </thead>\n",
       "  <tbody>\n",
       "    <tr>\n",
       "      <th>0</th>\n",
       "      <td>Melanie</td>\n",
       "      <td>58</td>\n",
       "      <td>49</td>\n",
       "      <td>25</td>\n",
       "    </tr>\n",
       "    <tr>\n",
       "      <th>1</th>\n",
       "      <td>Gabriella</td>\n",
       "      <td>45</td>\n",
       "      <td>72</td>\n",
       "      <td>88</td>\n",
       "    </tr>\n",
       "    <tr>\n",
       "      <th>2</th>\n",
       "      <td>Ashley</td>\n",
       "      <td>46</td>\n",
       "      <td>27</td>\n",
       "      <td>22</td>\n",
       "    </tr>\n",
       "    <tr>\n",
       "      <th>3</th>\n",
       "      <td>James</td>\n",
       "      <td>84</td>\n",
       "      <td>2</td>\n",
       "      <td>77</td>\n",
       "    </tr>\n",
       "    <tr>\n",
       "      <th>4</th>\n",
       "      <td>William</td>\n",
       "      <td>69</td>\n",
       "      <td>35</td>\n",
       "      <td>26</td>\n",
       "    </tr>\n",
       "  </tbody>\n",
       "</table>\n",
       "</div>"
      ],
      "text/plain": [
       "  student name  reading score  math score  writing score\n",
       "0      Melanie             58          49             25\n",
       "1    Gabriella             45          72             88\n",
       "2       Ashley             46          27             22\n",
       "3        James             84           2             77\n",
       "4      William             69          35             26"
      ]
     },
     "execution_count": 24,
     "metadata": {},
     "output_type": "execute_result"
    }
   ],
   "source": [
    "# TODO: read the dataset\n",
    "df = pd.read_csv('./data/students_performance.csv')\n",
    "df.head()"
   ]
  },
  {
   "cell_type": "code",
   "execution_count": 25,
   "metadata": {},
   "outputs": [],
   "source": [
    "# TODO: calculate mean, median, and mode for each subject\n",
    "\n",
    "subjects = [\"math score\", \"reading score\", \"writing score\"]\n",
    "\n",
    "\n",
    "mean_val = {}\n",
    "median_val = {} \n",
    "mode_val = {}\n",
    "\n",
    "\n",
    "for subject in subjects:\n",
    "    mean_val[subject] = round(np.mean(df[subject]), 2)\n",
    "    median_val[subject] = round(np.median(df[subject]), 2)\n",
    "    mode_val[subject] = round(df[subject].mode()[0], 2)"
   ]
  },
  {
   "cell_type": "code",
   "execution_count": 26,
   "metadata": {},
   "outputs": [
    {
     "name": "stdout",
     "output_type": "stream",
     "text": [
      "50.6 52.0 19\n"
     ]
    }
   ],
   "source": [
    "print(mean_val['math score'], median_val['math score'], mode_val['math score'])"
   ]
  },
  {
   "cell_type": "code",
   "execution_count": 27,
   "metadata": {},
   "outputs": [],
   "source": [
    "# TODO: calculate variance and standard deviation for each subject\n",
    "\n",
    "\n",
    "variance_val = {}\n",
    "std_val = {}\n",
    "range_val = {}\n",
    "\n",
    "for subject in subjects:\n",
    "    variance_val[subject] = round(np.var(df[subject]), 2)\n",
    "    std_val[subject] = round(np.std(df[subject]), 2)\n",
    "    range_val[subject] = round(df[subject].max() - df[subject].min(), 2)"
   ]
  },
  {
   "cell_type": "code",
   "execution_count": 28,
   "metadata": {},
   "outputs": [
    {
     "name": "stdout",
     "output_type": "stream",
     "text": [
      "707.43 26.6 99\n"
     ]
    }
   ],
   "source": "print(variance_val['math score'], std_val['math score'], range_val['math score'])"
  },
  {
   "cell_type": "code",
   "execution_count": 29,
   "metadata": {},
   "outputs": [
    {
     "data": {
      "application/vnd.microsoft.datawrangler.viewer.v0+json": {
       "columns": [
        {
         "name": "index",
         "rawType": "int64",
         "type": "integer"
        },
        {
         "name": "student name",
         "rawType": "object",
         "type": "string"
        },
        {
         "name": "reading score",
         "rawType": "int64",
         "type": "integer"
        },
        {
         "name": "math score",
         "rawType": "int64",
         "type": "integer"
        },
        {
         "name": "writing score",
         "rawType": "int64",
         "type": "integer"
        },
        {
         "name": "total score",
         "rawType": "float64",
         "type": "float"
        }
       ],
       "conversionMethod": "pd.DataFrame",
       "ref": "a4d1f767-fe78-42b5-a6a2-e1fd62271161",
       "rows": [
        [
         "0",
         "Melanie",
         "58",
         "49",
         "25",
         "44.0"
        ],
        [
         "1",
         "Gabriella",
         "45",
         "72",
         "88",
         "68.33333333333333"
        ],
        [
         "2",
         "Ashley",
         "46",
         "27",
         "22",
         "31.666666666666668"
        ],
        [
         "3",
         "James",
         "84",
         "2",
         "77",
         "54.333333333333336"
        ],
        [
         "4",
         "William",
         "69",
         "35",
         "26",
         "43.333333333333336"
        ]
       ],
       "shape": {
        "columns": 5,
        "rows": 5
       }
      },
      "text/html": [
       "<div>\n",
       "<style scoped>\n",
       "    .dataframe tbody tr th:only-of-type {\n",
       "        vertical-align: middle;\n",
       "    }\n",
       "\n",
       "    .dataframe tbody tr th {\n",
       "        vertical-align: top;\n",
       "    }\n",
       "\n",
       "    .dataframe thead th {\n",
       "        text-align: right;\n",
       "    }\n",
       "</style>\n",
       "<table border=\"1\" class=\"dataframe\">\n",
       "  <thead>\n",
       "    <tr style=\"text-align: right;\">\n",
       "      <th></th>\n",
       "      <th>student name</th>\n",
       "      <th>reading score</th>\n",
       "      <th>math score</th>\n",
       "      <th>writing score</th>\n",
       "      <th>total score</th>\n",
       "    </tr>\n",
       "  </thead>\n",
       "  <tbody>\n",
       "    <tr>\n",
       "      <th>0</th>\n",
       "      <td>Melanie</td>\n",
       "      <td>58</td>\n",
       "      <td>49</td>\n",
       "      <td>25</td>\n",
       "      <td>44.000000</td>\n",
       "    </tr>\n",
       "    <tr>\n",
       "      <th>1</th>\n",
       "      <td>Gabriella</td>\n",
       "      <td>45</td>\n",
       "      <td>72</td>\n",
       "      <td>88</td>\n",
       "      <td>68.333333</td>\n",
       "    </tr>\n",
       "    <tr>\n",
       "      <th>2</th>\n",
       "      <td>Ashley</td>\n",
       "      <td>46</td>\n",
       "      <td>27</td>\n",
       "      <td>22</td>\n",
       "      <td>31.666667</td>\n",
       "    </tr>\n",
       "    <tr>\n",
       "      <th>3</th>\n",
       "      <td>James</td>\n",
       "      <td>84</td>\n",
       "      <td>2</td>\n",
       "      <td>77</td>\n",
       "      <td>54.333333</td>\n",
       "    </tr>\n",
       "    <tr>\n",
       "      <th>4</th>\n",
       "      <td>William</td>\n",
       "      <td>69</td>\n",
       "      <td>35</td>\n",
       "      <td>26</td>\n",
       "      <td>43.333333</td>\n",
       "    </tr>\n",
       "  </tbody>\n",
       "</table>\n",
       "</div>"
      ],
      "text/plain": [
       "  student name  reading score  math score  writing score  total score\n",
       "0      Melanie             58          49             25    44.000000\n",
       "1    Gabriella             45          72             88    68.333333\n",
       "2       Ashley             46          27             22    31.666667\n",
       "3        James             84           2             77    54.333333\n",
       "4      William             69          35             26    43.333333"
      ]
     },
     "execution_count": 29,
     "metadata": {},
     "output_type": "execute_result"
    }
   ],
   "source": [
    "# TODO: calculate total score for each student (mean of three subjects)\n",
    "\n",
    "df[\"total score\"] = df[subjects].mean(axis=1)\n",
    "df.head()"
   ]
  },
  {
   "cell_type": "code",
   "execution_count": 30,
   "metadata": {},
   "outputs": [],
   "source": [
    "# TODO: calculate Q1, Q3, and IQR for total score \n",
    "\n",
    "Q1 = df[\"total score\"].quantile(0.25)\n",
    "Q3 = df[\"total score\"].quantile(0.75)\n",
    "IQR = Q3 - Q1"
   ]
  },
  {
   "cell_type": "code",
   "execution_count": 31,
   "metadata": {},
   "outputs": [
    {
     "name": "stdout",
     "output_type": "stream",
     "text": [
      "Q1: 39.0, Q3: 58.25, IQR: 19.25\n"
     ]
    }
   ],
   "source": [
    "print(f\"Q1: {Q1}, Q3: {Q3}, IQR: {IQR}\")"
   ]
  },
  {
   "cell_type": "code",
   "execution_count": 32,
   "metadata": {},
   "outputs": [],
   "source": [
    "# TODO: calculate the percenatage of students who has total score < Q1, between Q1 and Q3, and > Q3\n",
    "\n",
    "less_than_Q1 = round(df[df[\"total score\"] < Q1].shape[0] / df.shape[0] * 100, 2)\n",
    "between_Q1_Q3 = round(df[(df[\"total score\"] >= Q1) & (df[\"total score\"] <= Q3)].shape[0] / df.shape[0] * 100, 2)\n",
    "more_than_Q3 = round(df[df[\"total score\"] > Q3].shape[0] / df.shape[0] * 100, 2)"
   ]
  },
  {
   "cell_type": "code",
   "execution_count": 33,
   "metadata": {},
   "outputs": [
    {
     "name": "stdout",
     "output_type": "stream",
     "text": [
      "less than Q1: 24.4%, between Q1 and Q3: 50.4%, more than Q3: 25.2%\n"
     ]
    }
   ],
   "source": [
    "print(f\"less than Q1: {less_than_Q1}%, between Q1 and Q3: {between_Q1_Q3}%, more than Q3: {more_than_Q3}%\")"
   ]
  }
 ],
 "metadata": {
  "kernelspec": {
   "display_name": "menv",
   "language": "python",
   "name": "python3"
  },
  "language_info": {
   "codemirror_mode": {
    "name": "ipython",
    "version": 3
   },
   "file_extension": ".py",
   "mimetype": "text/x-python",
   "name": "python",
   "nbconvert_exporter": "python",
   "pygments_lexer": "ipython3",
   "version": "3.12.0"
  }
 },
 "nbformat": 4,
 "nbformat_minor": 2
}
