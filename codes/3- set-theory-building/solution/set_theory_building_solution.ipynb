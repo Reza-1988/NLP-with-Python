{
 "cells": [
  {
   "cell_type": "code",
   "execution_count": 1,
   "id": "b0e139b2-bc8e-4dcf-a06d-4edb0a9c5579",
   "metadata": {},
   "outputs": [],
   "source": [
    "def create_set(input_ls):\n",
    "    return set(input_ls)"
   ]
  },
  {
   "cell_type": "code",
   "execution_count": 4,
   "id": "5e2ed986-248d-4ace-b4ed-1cf7150b42c1",
   "metadata": {},
   "outputs": [],
   "source": [
    "def union(first_set, second_set):\n",
    "    return first_set.union(second_set)\n",
    "    \n",
    "def intersection(first_set, second_set):\n",
    "    return first_set.intersection(second_set)\n",
    "    \n",
    "def difference(first_set, second_set):\n",
    "    return first_set.difference(second_set)\n",
    "    \n",
    "def complenment(universal_set, first_set):\n",
    "    return universal_set.difference(first_set)"
   ]
  },
  {
   "cell_type": "code",
   "execution_count": 8,
   "id": "b0b93b9d-7f80-4c1d-a7d1-1f500fbd2737",
   "metadata": {},
   "outputs": [],
   "source": [
    "def is_empty(the_set):\n",
    "    return len(the_set) == 0\n",
    "    \n",
    "def is_member(the_set, element):\n",
    "    return element in the_set\n",
    "    \n",
    "def is_subset(first_set, second_set):\n",
    "    return first_set.issubset(second_set)\n",
    "    \n",
    "def power_set_number(the_set):\n",
    "    return 2 ** len(the_set)\n"
   ]
  },
  {
   "cell_type": "code",
   "execution_count": 10,
   "id": "2325fef9-dc05-4cfd-93bc-15f4a2785c9a",
   "metadata": {},
   "outputs": [
    {
     "name": "stdout",
     "output_type": "stream",
     "text": [
      "the union of A and B: {1, 2, 3, 4, 5, 9}\n",
      "the intersecion of A and B: {1, 2, 4}\n",
      "the difference of A and B: {9, 3, 5}\n",
      "the Complement of A and B: {8, 10, 6, 7}\n",
      "Is A empty: False\n",
      "Is 12 in A: False\n",
      "Is B subset of A: True\n",
      "power set of A: 64\n"
     ]
    }
   ],
   "source": [
    "#to_do\n",
    "A = [1,1,2,2,2,3,4,5,9]\n",
    "B = [1,2,4]\n",
    "U = [i for i in range(1, 11)]\n",
    "\n",
    "set_A = create_set(A)\n",
    "set_B = create_set(B)\n",
    "set_U = create_set(U)\n",
    "\n",
    "\n",
    "print(f'the union of A and B: {union(set_A, set_B)}')\n",
    "print(f'the intersecion of A and B: {intersection(set_A, set_B)}')\n",
    "print(f'the difference of A and B: {difference(set_A, set_B)}')\n",
    "print(f'the Complement of A and B: {complenment(set_U, set_A)}')\n",
    "\n",
    "print(f'Is A empty: {is_empty(set_A)}')\n",
    "print(f'Is 12 in A: {is_member(set_A, 12)}')\n",
    "print(f'Is B subset of A: {is_subset(set_B, set_A)}')\n",
    "print(f'power set of A: {power_set_number(set_A)}')\n",
    "\n"
   ]
  },
  {
   "cell_type": "code",
   "execution_count": 11,
   "id": "70a04778-8df7-4057-8e72-ae8efe7540cb",
   "metadata": {},
   "outputs": [],
   "source": [
    "import inspect\n",
    "\n",
    "# Save the functions to a .py file\n",
    "with open(\"solution_functions.py\", \"w\") as f:\n",
    "    f.write(inspect.getsource(create_set))\n",
    "    f.write(\"\\n\")  # Add newline for readability\n",
    "    f.write(inspect.getsource(union))\n",
    "    f.write(\"\\n\")  # Add newline for readability\n",
    "    f.write(inspect.getsource(intersection))\n",
    "    f.write(\"\\n\")  # Add newline for readability\n",
    "    f.write(inspect.getsource(difference))\n",
    "    f.write(\"\\n\")  # Add newline for readability\n",
    "    f.write(inspect.getsource(complenment))\n",
    "    f.write(\"\\n\")  # Add newline for readability\n",
    "    f.write(inspect.getsource(is_empty))\n",
    "    f.write(\"\\n\")  # Add newline for readability\n",
    "    f.write(inspect.getsource(is_subset))\n",
    "    f.write(\"\\n\")  # Add newline for readability\n",
    "    f.write(inspect.getsource(is_member))\n",
    "    f.write(\"\\n\")  # Add newline for readability\n",
    "    f.write(inspect.getsource(power_set_number))\n"
   ]
  }
 ],
 "metadata": {
  "kernelspec": {
   "display_name": "Python 3 (ipykernel)",
   "language": "python",
   "name": "python3"
  },
  "language_info": {
   "codemirror_mode": {
    "name": "ipython",
    "version": 3
   },
   "file_extension": ".py",
   "mimetype": "text/x-python",
   "name": "python",
   "nbconvert_exporter": "python",
   "pygments_lexer": "ipython3",
   "version": "3.13.2"
  }
 },
 "nbformat": 4,
 "nbformat_minor": 5
}
