{
 "cells": [
  {
   "cell_type": "markdown",
   "id": "89896cb8-3a3e-4102-8ded-dace4ce921c5",
   "metadata": {},
   "source": [
    "<h1 style=\"text-align: center; line-height: 200%; font-family: Arial, sans-serif; color: #0099cc;\">\n",
    "  Statistics Lab: Set Theory and Its Applications in Data Science\n",
    "</h1>\n",
    "\n",
    "<figure style=\"text-align: center; border: 2px solid #0099cc; padding: 10px; max-width: 35%; margin: auto;\">\n",
    "  <img src=\"data/img_set_theory.png\" style=\"max-width: 100%; height: auto;\">\n",
    "  <figcaption style=\"font-family: Arial, sans-serif; font-size: medium;\">\n",
    "    The set of Tintin books 😊\n",
    "  </figcaption>\n",
    "</figure><br><br>\n",
    "\n",
    "\n",
    "<p style=\"text-align: justify; line-height: 200%; font-family: Arial, sans-serif; font-size: medium;\">\n",
    "  Set theory, as one of the foundations of mathematics, plays a central role in many scientific and technological fields. This branch of mathematics provides us with tools for managing, analyzing, and performing operations on various datasets. In data science, statistics, and probability, set theory is directly applied in modeling phenomena, analyzing data, and designing algorithms.\n",
    "</p>\n",
    "\n",
    "<h3 style=\"text-align: left; line-height: 200%; font-family: Arial, sans-serif; color: #0099cc;\">\n",
    "  Objective of the Exercise\n",
    "</h3>\n",
    "<p style=\"text-align: justify; line-height: 200%; font-family: Arial, sans-serif; font-size: medium;\">\n",
    "  The primary goal of this exercise is to familiarize you with the fundamental concepts of set theory and their implementation in the Python programming environment. In this exercise, you will explore basic operations such as union, intersection, difference, complement, and power set, and tackle problems that require the use of these concepts. <br>\n",
    "  Python, due to its simplicity and power, is one of the best programming tools for learning and applying mathematical concepts. In this language, the <code>set</code> data structure allows us to easily implement set operations. This exercise will not only help you learn set theory concepts but also enhance your coding experience.\n",
    "</p>\n",
    "\n",
    "<h3 style=\"text-align: left; line-height: 200%; font-family: Arial, sans-serif; color: #0099cc;\">\n",
    "  Structure of the Exercise\n",
    "</h3>\n",
    "<p style=\"text-align: justify; line-height: 200%; font-family: Arial, sans-serif; font-size: medium;\">\n",
    "  This exercise consists of two parts:\n",
    "  <ol>\n",
    "    <li><strong>Theoretical Section:</strong> In this section, the main concepts of set theory, such as union, intersection, difference, complement, and power set, are reviewed.</li>\n",
    "    <li><strong>Practical Section:</strong> In this section, you will implement the learned concepts in Python. Some questions involve designing functions for set operations and solving real-world problems.</li>\n",
    "  </ol>\n",
    "</p>\n",
    "\n",
    "<h3 style=\"text-align: left; line-height: 200%; font-family: Arial, sans-serif; color: #0099cc;\">\n",
    "  What You Will Learn from This Exercise\n",
    "</h3>\n",
    "<p style=\"text-align: justify; line-height: 200%; font-family: Arial, sans-serif; font-size: medium;\">\n",
    "  <ul>\n",
    "    <li><strong>Fundamental Concepts of Set Theory:</strong> Union, intersection, difference, complement, and power set.</li>\n",
    "    <li><strong>Using the <code>set</code> Data Structure in Python:</strong> Learning how to create sets and perform operations on them.</li>\n",
    "    <li><strong>Solving Real-World Problems:</strong> Applying set theory concepts to problems derived from everyday life.</li>\n",
    "  </ul>\n",
    "</p>\n",
    "\n",
    "<p style=\"text-align: justify; line-height: 200%; font-family: Arial, sans-serif; font-size: medium;\">\n",
    "  <strong>Learning Objectives:</strong>\n",
    "  <ul>\n",
    "    <li>Understanding the fundamental concepts of set theory.</li>\n",
    "    <li>Implementing set operations in Python.</li>\n",
    "    <li>Applying set theory concepts to solve real-world problems.</li>\n",
    "  </ul>\n",
    "  By completing this exercise, you will not only develop your skills in set theory but also improve your coding experience. We hope this exercise is both useful and engaging for you! <br>\n",
    "  <strong>Let's get started!</strong>\n",
    "</p>"
   ]
  },
  {
   "cell_type": "markdown",
   "id": "98fe7c6e-1c50-49a9-9fce-6700017f09ce",
   "metadata": {},
   "source": [
    "<h3 style=\"text-align: left; line-height: 200%; font-family: Arial, sans-serif; color: #0099cc;\">\n",
    "  Section One: Creating a Set from a List\n",
    "</h3>\n",
    "\n",
    "<p style=\"text-align: justify; line-height: 200%; font-family: Arial, sans-serif; font-size: medium;\">\n",
    "  In this section, we aim to design a function that takes a list as input and converts it into a set (<code>set</code>). The goal is to remove duplicate elements from the list and obtain a set containing unique elements. <br>\n",
    "  You need to write a function named <code>create_set</code> that:\n",
    "  <ul>\n",
    "    <li>Receives a list as input.</li>\n",
    "    <li>Removes duplicate elements from the list and converts it into a set.</li>\n",
    "    <li>Returns the resulting set as output.</li>\n",
    "  </ul>\n",
    "  Note that sets in Python do not support duplicate elements, so you can automatically utilize this feature from the <code>set</code> data structure.\n",
    "</p>"
   ]
  },
  {
   "cell_type": "code",
   "execution_count": null,
   "id": "b0e139b2-bc8e-4dcf-a06d-4edb0a9c5579",
   "metadata": {},
   "outputs": [],
   "source": [
    "def create_set(input_ls):\n",
    "    pass #to_do"
   ]
  },
  {
   "cell_type": "markdown",
   "id": "f8e16a50-f6dd-4c8b-a697-1947d21e9b78",
   "metadata": {},
   "source": [
    "<h3 style=\"text-align: left; line-height: 200%; font-family: Arial, sans-serif; color: #0099cc;\">\n",
    "  Section Two: Implementing Set Operations\n",
    "</h3>\n",
    "\n",
    "<p style=\"text-align: justify; line-height: 200%; font-family: Arial, sans-serif; font-size: medium;\">\n",
    "  In this section, we aim to implement functions for performing set operations such as union, intersection, difference, and complement. Each of these functions should take two sets as input and return the result of the respective operation as a new set (<code>return</code>). <br>\n",
    "  You need to implement the following four functions:\n",
    "  <ul>\n",
    "    <li><strong>Function <code>union</code>:</strong> This function should take two sets as input and calculate their union.</li>\n",
    "    <li><strong>Function <code>intersection</code>:</strong> This function should take two sets as input and calculate their intersection.</li>\n",
    "    <li><strong>Function <code>difference</code>:</strong> This function should take two sets as input and calculate the difference of the first set from the second set.</li>\n",
    "    <li><strong>Function <code>complement</code>:</strong> This function should take a set and a universal set as input and calculate the complement of the set with respect to the universal set.</li>\n",
    "  </ul>\n",
    "  Note that in implementing these functions, you should use the <code>set</code> data structure in Python and perform the respective operations directly.\n",
    "</p>"
   ]
  },
  {
   "cell_type": "code",
   "execution_count": null,
   "id": "5e2ed986-248d-4ace-b4ed-1cf7150b42c1",
   "metadata": {},
   "outputs": [],
   "source": [
    "def union(first_set, second_set):\n",
    "    pass #to_do\n",
    "def intersection(first_set, second_set):\n",
    "    pass #to_do\n",
    "def difference(first_set, second_set):\n",
    "    pass #to_do\n",
    "def complenment(universal_set, first_set):\n",
    "    pass #to_do"
   ]
  },
  {
   "cell_type": "markdown",
   "id": "8e7adf21-4f4b-47a1-a770-3de6dba48105",
   "metadata": {},
   "source": [
    "<h3 style=\"text-align: left; line-height: 200%; font-family: Arial, sans-serif; color: #0099cc;\">\n",
    "  Section Three: Implementing Set Property Functions\n",
    "</h3>\n",
    "\n",
    "<p style=\"text-align: justify; line-height: 200%; font-family: Arial, sans-serif; font-size: medium;\">\n",
    "  In this section, we aim to implement functions to check various properties of sets. These functions include checking if a set is empty, verifying membership of an element, determining if one set is a subset of another, and calculating the number of elements in a power set. <br>\n",
    "  You need to implement the following four functions:\n",
    "  <ul>\n",
    "    <li><strong>Function <code>is_empty</code>:</strong> This function should take a set as input and check whether the set is empty, returning <code>True</code> or <code>False</code>.</li>\n",
    "    <li><strong>Function <code>is_member</code>:</strong> This function should take a set and an element as input and check whether the given element is a member of the set, returning <code>True</code> or <code>False</code>.</li>\n",
    "    <li><strong>Function <code>is_subset</code>:</strong> This function should take two sets as input and check whether the first set is a subset of the second set, returning <code>True</code> or <code>False</code>.</li>\n",
    "    <li><strong>Function <code>power_set_number</code>:</strong> This function should take a set as input and calculate the number of elements in its power set, which is equal to $2^n$, where $n$ is the number of elements in the set.</li>\n",
    "  </ul>\n",
    "  Note that in implementing these functions, you should use the features and methods available in the <code>set</code> data structure in Python.\n",
    "</p>"
   ]
  },
  {
   "cell_type": "code",
   "execution_count": null,
   "id": "b0b93b9d-7f80-4c1d-a7d1-1f500fbd2737",
   "metadata": {},
   "outputs": [],
   "source": [
    "def is_empty(the_set):\n",
    "    pass #to_do\n",
    "def is_member(the_set, element):\n",
    "    pass #to_do\n",
    "def is_subset(first_set, second_set):\n",
    "    pass #to_do\n",
    "def power_set_number(the_set):\n",
    "    pass #to_do\n"
   ]
  },
  {
   "cell_type": "markdown",
   "id": "f419b316-d171-4267-9e6f-068881f942ec",
   "metadata": {},
   "source": [
    "<h3 style=\"text-align: left; line-height: 200%; font-family: Arial, sans-serif; color: #0099cc;\">\n",
    "  Section Four: Testing and Evaluating Functions\n",
    "</h3>\n",
    "\n",
    "<p style=\"text-align: justify; line-height: 200%; font-family: Arial, sans-serif; font-size: medium;\">\n",
    "  In this section, we aim to test the implemented functions using various examples. The goal of this phase is to verify the correctness and accuracy of the functions. <br>\n",
    "  You need to:\n",
    "  <ul>\n",
    "    <li>Define one or more sample sets (e.g., <code>set_A</code> and <code>set_B</code>).</li>\n",
    "    <li>Test the implemented functions using these sets.</li>\n",
    "    <li>Check the results of each function and verify their correctness.</li>\n",
    "  </ul>\n",
    "  For example:\n",
    "  <ul>\n",
    "    <li>For the <code>union</code> function, you can define two sets and calculate their union.</li>\n",
    "    <li>For the <code>is_member</code> function, you can check whether a specific element is a member of a set.</li>\n",
    "    <li>For the <code>power_set_number</code> function, you can calculate the number of elements in the power set of a set and compare the result with your expectations.</li>\n",
    "  </ul>\n",
    "  Note that the results of each function must be consistent with the logic of set theory.\n",
    "</p>"
   ]
  },
  {
   "cell_type": "code",
   "execution_count": null,
   "id": "2325fef9-dc05-4cfd-93bc-15f4a2785c9a",
   "metadata": {},
   "outputs": [],
   "source": [
    "#to_do"
   ]
  },
  {
   "cell_type": "markdown",
   "id": "a6c812b8-3c39-4798-a9da-b80debb62d63",
   "metadata": {},
   "source": [
    "<h3 style=\"text-align: left; line-height: 200%; font-family: Arial, sans-serif; color: #0099cc;\">\n",
    "  Section Five: Creating a File Containing Functions\n",
    "</h3>\n",
    "\n",
    "<p style=\"text-align: justify; line-height: 200%; font-family: Arial, sans-serif; font-size: medium;\">\n",
    "  In this section, we have automatically saved all the implemented functions in a separate Python file named <code>solution_functions.py</code>. This was done using the <code>inspect</code> module, which extracts the source code of each function and adds it to the respective file. <br>\n",
    "  The goal of this phase is to better organize the code and enable reuse of the functions in other projects. The generated file contains all the required functions (such as <code>create_set</code>, <code>union</code>, <code>intersection</code>, and others) and is ready for use. <br>\n",
    "  Therefore, you can use this file in your future programs (without needing to re-implement the functions).\n",
    "</p>"
   ]
  },
  {
   "cell_type": "code",
   "execution_count": null,
   "id": "70a04778-8df7-4057-8e72-ae8efe7540cb",
   "metadata": {},
   "outputs": [],
   "source": [
    "import inspect\n",
    "\n",
    "# Save the functions to a .py file\n",
    "with open(\"solution_functions.py\", \"w\") as f:\n",
    "    f.write(inspect.getsource(create_set))\n",
    "    f.write(\"\\n\")  # Add newline for readability\n",
    "    f.write(inspect.getsource(union))\n",
    "    f.write(\"\\n\")  # Add newline for readability\n",
    "    f.write(inspect.getsource(intersection))\n",
    "    f.write(\"\\n\")  # Add newline for readability\n",
    "    f.write(inspect.getsource(difference))\n",
    "    f.write(\"\\n\")  # Add newline for readability\n",
    "    f.write(inspect.getsource(complenment))\n",
    "    f.write(\"\\n\")  # Add newline for readability\n",
    "    f.write(inspect.getsource(is_empty))\n",
    "    f.write(\"\\n\")  # Add newline for readability\n",
    "    f.write(inspect.getsource(is_subset))\n",
    "    f.write(\"\\n\")  # Add newline for readability\n",
    "    f.write(inspect.getsource(is_member))\n",
    "    f.write(\"\\n\")  # Add newline for readability\n",
    "    f.write(inspect.getsource(power_set_number))\n"
   ]
  }
 ],
 "metadata": {
  "kernelspec": {
   "display_name": "Python 3 (ipykernel)",
   "language": "python",
   "name": "python3"
  },
  "language_info": {
   "codemirror_mode": {
    "name": "ipython",
    "version": 3
   },
   "file_extension": ".py",
   "mimetype": "text/x-python",
   "name": "python",
   "nbconvert_exporter": "python",
   "pygments_lexer": "ipython3",
   "version": "3.13.2"
  }
 },
 "nbformat": 4,
 "nbformat_minor": 5
}
