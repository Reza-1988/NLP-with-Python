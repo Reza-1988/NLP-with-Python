{
 "cells": [
  {
   "cell_type": "markdown",
   "metadata": {},
   "source": [
    "<h1 align=\"center\" style=\"line-height:200%;font-family:Arial;color:#0099cc\">\n",
    "<font face=\"Arial\" color=\"#0099cc\">\n",
    "    Mission Two: Revealing the Secrets of the City\n",
    "</font>\n",
    "</h1>"
   ]
  },
  {
   "cell_type": "markdown",
   "metadata": {},
   "source": [
    "<p style=\"direction: ltr; text-align: justify; line-height: 200%; font-family: Arial; font-size: medium\">\n",
    "<font face=\"Arial\" size=3>\n",
    "After uncovering the secrets of the data, the mayor of the city has decided to present the information in a visually engaging way. He wants to gain a better understanding of the students' academic status and make decisions to improve the education system.\n",
    "</font>\n",
    "</p>\n",
    "\n",
    "<p style=\"direction: ltr; text-align: justify; line-height: 200%; font-family: Arial; font-size: medium\">\n",
    "<font face=\"Arial\" size=3>\n",
    "But this task requires a professional... 🔎 and that’s your job! You must visualize the city’s data using the <i>Plotly</i> library.\n",
    "</font>\n",
    "</p>"
   ]
  },
  {
   "cell_type": "markdown",
   "metadata": {},
   "source": [
    "   \n",
    "<h2 align=\"left\" style=\"line-height:200%;font-family:Arial;color:#0099cc\">\n",
    "<font face=\"Arial\" color=\"#0099cc\">\n",
    "Libraries\n",
    "</font>\n",
    "</h2>\n",
    "\n",
    "<p style=\"direction: ltr; text-align: justify; line-height: 200%; font-family: Arial; font-size: medium\">\n",
    "<font face=\"Arial\" size=3>\n",
    "First, import the necessary libraries.\n",
    "</font>\n",
    "</p>"
   ]
  },
  {
   "cell_type": "code",
   "execution_count": 2,
   "metadata": {},
   "outputs": [],
   "source": [
    "# import libraries\n",
    "import numpy as np\n",
    "import pandas as pd\n",
    "import plotly.express as px"
   ]
  },
  {
   "cell_type": "markdown",
   "metadata": {},
   "source": [
    "<h2 align=\"left\" style=\"line-height:200%;font-family:Arial;color:#0099cc\">\n",
    "<font face=\"Arial\" color=\"#0099cc\">\n",
    "Station 1: Data Preparation\n",
    "</font>\n",
    "</h2>\n",
    "\n",
    "<p style=\"direction: ltr; text-align: justify; line-height: 200%; font-family: Arial; font-size: medium\">\n",
    "<font face=\"Arial\" size=3>\n",
    "Before setting up the exhibition, we need to prepare the data.\n",
    "</font>\n",
    "</p>\n",
    "\n",
    "<p style=\"direction: ltr; text-align: justify; line-height: 200%; font-family: Arial; font-size: medium\">\n",
    "<font face=\"Arial\" size=3>\n",
    "The <code>students_performance_update.csv</code> file contains information about students' performance, which you became familiar with in the previous stage. Load it using <code>Pandas</code>.\n",
    "</font>\n",
    "</p>"
   ]
  },
  {
   "cell_type": "code",
   "execution_count": null,
   "metadata": {},
   "outputs": [],
   "source": [
    "# TODO: read the csv file\n",
    "df = pd.read_csv(None)\n",
    "df.head()"
   ]
  },
  {
   "cell_type": "markdown",
   "metadata": {},
   "source": [
    "<p style=\"direction: ltr; text-align: justify; line-height: 200%; font-family: Arial; font-size: medium\">\n",
    "<font face=\"Arial\" size=3>\n",
    "<span style=\"color:green\"><b>Hint:</b></span><br>\n",
    "Your final chart must exactly match the images provided in each section.\n",
    "</font>\n",
    "</p>"
   ]
  },
  {
   "cell_type": "markdown",
   "metadata": {},
   "source": [
    "<h2 align=\"left\" style=\"line-height:200%;font-family:Arial;color:#0099cc\">\n",
    "<font face=\"Arial\" color=\"#0099cc\">\n",
    "Station 2: Designing the Data Wall (Box Plot 📦)\n",
    "</font>\n",
    "</h2>\n",
    "\n",
    "<p style=\"direction: ltr; text-align: justify; line-height: 200%; font-family: Arial; font-size: medium\">\n",
    "<font face=\"Arial\" size=3>\n",
    "🔎 <b>Challenge:</b> A dedicated section in the exhibition is designed to display the status of students' scores. You need to create a data wall that shows the distribution of scores.\n",
    "</font>\n",
    "</p>\n",
    "\n",
    "<p style=\"direction: ltr; text-align: justify; line-height: 200%; font-family: Arial; font-size: medium\">\n",
    "<font face=\"Arial\" size=3>\n",
    "📌 <b>Task:</b><br>\n",
    "Create a Box Plot for each subject.<br>\n",
    "Identify which data points are outside the usual range.\n",
    "</font>\n",
    "</p>\n",
    "\n",
    "<center>\n",
    "<img height=350 src=\"data/figures/box-plot.png\" alt=\"Box Plot\">\n",
    "</center>"
   ]
  },
  {
   "cell_type": "code",
   "execution_count": null,
   "metadata": {},
   "outputs": [],
   "source": [
    "# TODO: produce a Box Plot for the math score, reading score, and writing score\n",
    "fig = px.box(None, y=None, title=None,\n",
    "             labels={\"value\": \"نمره\", \"variable\": \"درس‌ها\"},\n",
    "             color_discrete_sequence=[\"green\"])\n",
    "fig.show()"
   ]
  },
  {
   "cell_type": "markdown",
   "metadata": {},
   "source": [
    "<h2 align=\"left\" style=\"line-height:200%;font-family:Arial;color:#0099cc\">\n",
    "<font face=\"Arial\" color=\"#0099cc\">\n",
    "Station 3: Students' Path to Success (Histogram 📶)\n",
    "</font>\n",
    "</h2>\n",
    "\n",
    "<p style=\"direction: ltr; text-align: justify; line-height: 200%; font-family: Arial; font-size: medium\">\n",
    "<font face=\"Arial\" size=3>\n",
    "🔎 <b>Challenge:</b> In another section of the exhibition, a histogram of the students' path to success will be created. This section shows the range in which students' scores are concentrated.\n",
    "</font>\n",
    "</p>\n",
    "\n",
    "<p style=\"direction: ltr; text-align: justify; line-height: 200%; font-family: Arial; font-size: medium\">\n",
    "<font face=\"Arial\" size=3>\n",
    "📌 <b>Task:</b><br>\n",
    "Create a histogram for the math scores.<br>\n",
    "Identify the range where most students' scores are concentrated.\n",
    "</font>\n",
    "</p>\n",
    "\n",
    "<center>\n",
    "<img height=350 src=\"data/figures/histogram.png\" alt=\"Histogram\">\n",
    "</center>"
   ]
  },
  {
   "cell_type": "code",
   "execution_count": null,
   "metadata": {},
   "outputs": [],
   "source": [
    "# TODO: produce a Histogram for the math score\n",
    "fig = px.histogram(None, x=None, title=None,\n",
    "                   labels={\"value\": \"نمره\", \"variable\": \"ریاضی\"},\n",
    "                   color_discrete_sequence=[\"light blue\"])\n",
    "\n",
    "fig.show()"
   ]
  },
  {
   "cell_type": "markdown",
   "metadata": {},
   "source": [
    "<h2 align=\"left\" style=\"line-height:200%;font-family:Arial;color:#0099cc\">\n",
    "<font face=\"Arial\" color=\"#0099cc\">\n",
    "Station 4: Bridges Between Subjects (Scatter Plot 🔄)\n",
    "</font>\n",
    "</h2>\n",
    "\n",
    "<p style=\"direction: ltr; text-align: justify; line-height: 200%; font-family: Arial; font-size: medium\">\n",
    "<font face=\"Arial\" size=3>\n",
    "🔎 <b>Challenge:</b> The mayor wants to know if scores in different subjects are related. For example, does a student who excels in math also perform well in reading?\n",
    "</font>\n",
    "</p>\n",
    "\n",
    "<p style=\"direction: ltr; text-align: justify; line-height: 200%; font-family: Arial; font-size: medium\">\n",
    "<font face=\"Arial\" size=3>\n",
    "📌 <b>Task:</b><br>\n",
    "Create a Scatter Plot to show the relationship between math and reading scores.<br>\n",
    "If the points align along a line, it indicates that these two scores are related.\n",
    "</font>\n",
    "</p>\n",
    "\n",
    "<center>\n",
    "<img height=350 src=\"data/figures/scatter-plot.png\" alt=\"Scatter Plot\">\n",
    "</center>"
   ]
  },
  {
   "cell_type": "code",
   "execution_count": null,
   "metadata": {},
   "outputs": [],
   "source": [
    "# TODO: produce a Scatter Plot for the math score and reading score\n",
    "fig = px.scatter(None, x=None, y=None, title=None)\n",
    "\n",
    "fig.show()"
   ]
  },
  {
   "cell_type": "markdown",
   "metadata": {},
   "source": [
    "<h2 align=\"left\" style=\"line-height:200%;font-family:Arial;color:#0099cc\">\n",
    "<font face=\"Arial\" color=\"#0099cc\">\n",
    "Station 5: Parental Education Pie (Pie Chart 🎂)\n",
    "</font>\n",
    "</h2>\n",
    "\n",
    "<p style=\"direction: ltr; text-align: justify; line-height: 200%; font-family: Arial; font-size: medium\">\n",
    "<font face=\"Arial\" size=3>\n",
    "🔎 <b>Challenge:</b> One of the key questions the mayor has is how varied the educational levels of parents are among the students.\n",
    "</font>\n",
    "</p>\n",
    "\n",
    "<p style=\"direction: ltr; text-align: justify; line-height: 200%; font-family: Arial; font-size: medium\">\n",
    "<font face=\"Arial\" size=3>\n",
    "📌 <b>Task:</b><br>\n",
    "Create a Pie Chart to show the percentage of parents with different levels of education.\n",
    "</font>\n",
    "</p>\n",
    "\n",
    "<center>\n",
    "<img height=350 src=\"data/figures/pie-chart.png\" alt=\"Pie Chart\">\n",
    "</center>"
   ]
  },
  {
   "cell_type": "code",
   "execution_count": null,
   "metadata": {},
   "outputs": [],
   "source": [
    "# TODO: produce a Pie Chart for parents' education levels\n",
    "fig = px.pie(None, names=None, title=None,\n",
    "             color_discrete_sequence=px.colors.sequential.RdBu)\n",
    "fig.show()"
   ]
  },
  {
   "cell_type": "markdown",
   "metadata": {},
   "source": [
    "<p style=\"direction: ltr; text-align: justify; line-height: 200%; font-family: Arial; font-size: medium\">\n",
    "<font face=\"Arial\" size=3>\n",
    "Congratulations! Using Plotly, you have created an impressive data exhibition. Now, the people of the city can understand the information visually and interactively, enabling better decision-making. 🥳\n",
    "</font>\n",
    "</p>"
   ]
  },
  {
   "cell_type": "markdown",
   "metadata": {},
   "source": [
    "<p style=\"direction: ltr; text-align: justify; line-height: 200%; font-family: Arial; font-size: medium\">\n",
    "<font face=\"Arial\" size=3>\n",
    "🚀 <b>More Challenges for You:</b>\n",
    "</font>\n",
    "</p>\n",
    "\n",
    "<ol>\n",
    "<li>\n",
    "<p style=\"direction: ltr; text-align: justify; line-height: 200%; font-family: Arial; font-size: medium\">\n",
    "<font face=\"Arial\" size=3>\n",
    "Create additional charts to compare the scores of girls and boys.\n",
    "</font>\n",
    "</p>\n",
    "</li>\n",
    "<li>\n",
    "<p style=\"direction: ltr; text-align: justify; line-height: 200%; font-family: Arial; font-size: medium\">\n",
    "<font face=\"Arial\" size=3>\n",
    "Investigate whether students who receive free lunch have lower scores.\n",
    "</font>\n",
    "</p>\n",
    "</li>\n",
    "</ol>"
   ]
  },
  {
   "metadata": {},
   "cell_type": "code",
   "outputs": [],
   "execution_count": null,
   "source": "# TODO: Create additional charts to compare the scores of girls and boys"
  },
  {
   "metadata": {},
   "cell_type": "code",
   "outputs": [],
   "execution_count": null,
   "source": "# TODO: Investigate whether students who receive free lunch have lower scores"
  }
 ],
 "metadata": {
  "kernelspec": {
   "display_name": "menv",
   "language": "python",
   "name": "python3"
  },
  "language_info": {
   "codemirror_mode": {
    "name": "ipython",
    "version": 3
   },
   "file_extension": ".py",
   "mimetype": "text/x-python",
   "name": "python",
   "nbconvert_exporter": "python",
   "pygments_lexer": "ipython3",
   "version": "3.12.0"
  }
 },
 "nbformat": 4,
 "nbformat_minor": 2
}
